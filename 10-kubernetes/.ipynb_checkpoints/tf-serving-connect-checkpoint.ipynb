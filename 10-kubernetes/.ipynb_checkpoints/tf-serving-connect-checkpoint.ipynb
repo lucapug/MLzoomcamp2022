{
 "cells": [
  {
   "cell_type": "code",
   "execution_count": 1,
   "id": "6d9a8923",
   "metadata": {},
   "outputs": [
    {
     "data": {
      "application/javascript": [
       "IPython.notebook.set_autosave_interval(0)"
      ]
     },
     "metadata": {},
     "output_type": "display_data"
    },
    {
     "name": "stdout",
     "output_type": "stream",
     "text": [
      "Autosave disabled\n"
     ]
    }
   ],
   "source": [
    "autosave 0"
   ]
  },
  {
   "cell_type": "code",
   "execution_count": 2,
   "id": "c5381349",
   "metadata": {},
   "outputs": [
    {
     "name": "stdout",
     "output_type": "stream",
     "text": [
      "/bin/bash: /home/lucapug/miniconda3/envs/ml-zoomcamp/lib/libtinfo.so.6: no version information available (required by /bin/bash)\n",
      "Collecting grpcio==1.42.0\n",
      "  Downloading grpcio-1.42.0-cp39-cp39-manylinux_2_17_x86_64.manylinux2014_x86_64.whl (4.0 MB)\n",
      "\u001b[2K     \u001b[90m━━━━━━━━━━━━━━━━━━━━━━━━━━━━━━━━━━━━━━━━\u001b[0m \u001b[32m4.0/4.0 MB\u001b[0m \u001b[31m8.4 MB/s\u001b[0m eta \u001b[36m0:00:00\u001b[0m00:01\u001b[0m00:01\u001b[0m\n",
      "\u001b[?25hCollecting tensorflow-serving-api==2.7.0\n",
      "  Downloading tensorflow_serving_api-2.7.0-py2.py3-none-any.whl (37 kB)\n",
      "Requirement already satisfied: six>=1.5.2 in /home/lucapug/miniconda3/envs/ml-zoomcamp/lib/python3.9/site-packages (from grpcio==1.42.0) (1.16.0)\n",
      "Requirement already satisfied: tensorflow<3,>=2.7.0 in /home/lucapug/miniconda3/envs/ml-zoomcamp/lib/python3.9/site-packages (from tensorflow-serving-api==2.7.0) (2.11.0)\n",
      "Requirement already satisfied: protobuf>=3.6.0 in /home/lucapug/miniconda3/envs/ml-zoomcamp/lib/python3.9/site-packages (from tensorflow-serving-api==2.7.0) (3.19.6)\n",
      "Requirement already satisfied: numpy>=1.20 in /home/lucapug/miniconda3/envs/ml-zoomcamp/lib/python3.9/site-packages (from tensorflow<3,>=2.7.0->tensorflow-serving-api==2.7.0) (1.23.1)\n",
      "Requirement already satisfied: gast<=0.4.0,>=0.2.1 in /home/lucapug/miniconda3/envs/ml-zoomcamp/lib/python3.9/site-packages (from tensorflow<3,>=2.7.0->tensorflow-serving-api==2.7.0) (0.4.0)\n",
      "Requirement already satisfied: astunparse>=1.6.0 in /home/lucapug/miniconda3/envs/ml-zoomcamp/lib/python3.9/site-packages (from tensorflow<3,>=2.7.0->tensorflow-serving-api==2.7.0) (1.6.3)\n",
      "Requirement already satisfied: tensorflow-io-gcs-filesystem>=0.23.1 in /home/lucapug/miniconda3/envs/ml-zoomcamp/lib/python3.9/site-packages (from tensorflow<3,>=2.7.0->tensorflow-serving-api==2.7.0) (0.28.0)\n",
      "Requirement already satisfied: setuptools in /home/lucapug/miniconda3/envs/ml-zoomcamp/lib/python3.9/site-packages (from tensorflow<3,>=2.7.0->tensorflow-serving-api==2.7.0) (65.5.0)\n",
      "Requirement already satisfied: termcolor>=1.1.0 in /home/lucapug/miniconda3/envs/ml-zoomcamp/lib/python3.9/site-packages (from tensorflow<3,>=2.7.0->tensorflow-serving-api==2.7.0) (2.1.1)\n",
      "Requirement already satisfied: libclang>=13.0.0 in /home/lucapug/miniconda3/envs/ml-zoomcamp/lib/python3.9/site-packages (from tensorflow<3,>=2.7.0->tensorflow-serving-api==2.7.0) (14.0.6)\n",
      "Requirement already satisfied: packaging in /home/lucapug/miniconda3/envs/ml-zoomcamp/lib/python3.9/site-packages (from tensorflow<3,>=2.7.0->tensorflow-serving-api==2.7.0) (21.3)\n",
      "Requirement already satisfied: tensorboard<2.12,>=2.11 in /home/lucapug/miniconda3/envs/ml-zoomcamp/lib/python3.9/site-packages (from tensorflow<3,>=2.7.0->tensorflow-serving-api==2.7.0) (2.11.0)\n",
      "Requirement already satisfied: opt-einsum>=2.3.2 in /home/lucapug/miniconda3/envs/ml-zoomcamp/lib/python3.9/site-packages (from tensorflow<3,>=2.7.0->tensorflow-serving-api==2.7.0) (3.3.0)\n",
      "Requirement already satisfied: tensorflow-estimator<2.12,>=2.11.0 in /home/lucapug/miniconda3/envs/ml-zoomcamp/lib/python3.9/site-packages (from tensorflow<3,>=2.7.0->tensorflow-serving-api==2.7.0) (2.11.0)\n",
      "Requirement already satisfied: flatbuffers>=2.0 in /home/lucapug/miniconda3/envs/ml-zoomcamp/lib/python3.9/site-packages (from tensorflow<3,>=2.7.0->tensorflow-serving-api==2.7.0) (22.10.26)\n",
      "Requirement already satisfied: keras<2.12,>=2.11.0 in /home/lucapug/miniconda3/envs/ml-zoomcamp/lib/python3.9/site-packages (from tensorflow<3,>=2.7.0->tensorflow-serving-api==2.7.0) (2.11.0)\n",
      "Requirement already satisfied: typing-extensions>=3.6.6 in /home/lucapug/miniconda3/envs/ml-zoomcamp/lib/python3.9/site-packages (from tensorflow<3,>=2.7.0->tensorflow-serving-api==2.7.0) (4.3.0)\n",
      "Requirement already satisfied: absl-py>=1.0.0 in /home/lucapug/miniconda3/envs/ml-zoomcamp/lib/python3.9/site-packages (from tensorflow<3,>=2.7.0->tensorflow-serving-api==2.7.0) (1.3.0)\n",
      "Requirement already satisfied: h5py>=2.9.0 in /home/lucapug/miniconda3/envs/ml-zoomcamp/lib/python3.9/site-packages (from tensorflow<3,>=2.7.0->tensorflow-serving-api==2.7.0) (3.7.0)\n",
      "Requirement already satisfied: google-pasta>=0.1.1 in /home/lucapug/miniconda3/envs/ml-zoomcamp/lib/python3.9/site-packages (from tensorflow<3,>=2.7.0->tensorflow-serving-api==2.7.0) (0.2.0)\n",
      "Requirement already satisfied: wrapt>=1.11.0 in /home/lucapug/miniconda3/envs/ml-zoomcamp/lib/python3.9/site-packages (from tensorflow<3,>=2.7.0->tensorflow-serving-api==2.7.0) (1.14.1)\n",
      "Requirement already satisfied: wheel<1.0,>=0.23.0 in /home/lucapug/miniconda3/envs/ml-zoomcamp/lib/python3.9/site-packages (from astunparse>=1.6.0->tensorflow<3,>=2.7.0->tensorflow-serving-api==2.7.0) (0.37.1)\n",
      "Requirement already satisfied: werkzeug>=1.0.1 in /home/lucapug/miniconda3/envs/ml-zoomcamp/lib/python3.9/site-packages (from tensorboard<2.12,>=2.11->tensorflow<3,>=2.7.0->tensorflow-serving-api==2.7.0) (2.2.2)\n",
      "Requirement already satisfied: requests<3,>=2.21.0 in /home/lucapug/miniconda3/envs/ml-zoomcamp/lib/python3.9/site-packages (from tensorboard<2.12,>=2.11->tensorflow<3,>=2.7.0->tensorflow-serving-api==2.7.0) (2.28.1)\n",
      "Requirement already satisfied: google-auth-oauthlib<0.5,>=0.4.1 in /home/lucapug/miniconda3/envs/ml-zoomcamp/lib/python3.9/site-packages (from tensorboard<2.12,>=2.11->tensorflow<3,>=2.7.0->tensorflow-serving-api==2.7.0) (0.4.6)\n",
      "Requirement already satisfied: markdown>=2.6.8 in /home/lucapug/miniconda3/envs/ml-zoomcamp/lib/python3.9/site-packages (from tensorboard<2.12,>=2.11->tensorflow<3,>=2.7.0->tensorflow-serving-api==2.7.0) (3.4.1)\n",
      "Requirement already satisfied: google-auth<3,>=1.6.3 in /home/lucapug/miniconda3/envs/ml-zoomcamp/lib/python3.9/site-packages (from tensorboard<2.12,>=2.11->tensorflow<3,>=2.7.0->tensorflow-serving-api==2.7.0) (2.14.1)\n",
      "Requirement already satisfied: tensorboard-plugin-wit>=1.6.0 in /home/lucapug/miniconda3/envs/ml-zoomcamp/lib/python3.9/site-packages (from tensorboard<2.12,>=2.11->tensorflow<3,>=2.7.0->tensorflow-serving-api==2.7.0) (1.8.1)\n",
      "Requirement already satisfied: tensorboard-data-server<0.7.0,>=0.6.0 in /home/lucapug/miniconda3/envs/ml-zoomcamp/lib/python3.9/site-packages (from tensorboard<2.12,>=2.11->tensorflow<3,>=2.7.0->tensorflow-serving-api==2.7.0) (0.6.1)\n",
      "Requirement already satisfied: pyparsing!=3.0.5,>=2.0.2 in /home/lucapug/miniconda3/envs/ml-zoomcamp/lib/python3.9/site-packages (from packaging->tensorflow<3,>=2.7.0->tensorflow-serving-api==2.7.0) (3.0.9)\n",
      "Requirement already satisfied: cachetools<6.0,>=2.0.0 in /home/lucapug/miniconda3/envs/ml-zoomcamp/lib/python3.9/site-packages (from google-auth<3,>=1.6.3->tensorboard<2.12,>=2.11->tensorflow<3,>=2.7.0->tensorflow-serving-api==2.7.0) (5.2.0)\n",
      "Requirement already satisfied: rsa<5,>=3.1.4 in /home/lucapug/miniconda3/envs/ml-zoomcamp/lib/python3.9/site-packages (from google-auth<3,>=1.6.3->tensorboard<2.12,>=2.11->tensorflow<3,>=2.7.0->tensorflow-serving-api==2.7.0) (4.7.2)\n",
      "Requirement already satisfied: pyasn1-modules>=0.2.1 in /home/lucapug/miniconda3/envs/ml-zoomcamp/lib/python3.9/site-packages (from google-auth<3,>=1.6.3->tensorboard<2.12,>=2.11->tensorflow<3,>=2.7.0->tensorflow-serving-api==2.7.0) (0.2.8)\n",
      "Requirement already satisfied: requests-oauthlib>=0.7.0 in /home/lucapug/miniconda3/envs/ml-zoomcamp/lib/python3.9/site-packages (from google-auth-oauthlib<0.5,>=0.4.1->tensorboard<2.12,>=2.11->tensorflow<3,>=2.7.0->tensorflow-serving-api==2.7.0) (1.3.1)\n",
      "Requirement already satisfied: importlib-metadata>=4.4 in /home/lucapug/miniconda3/envs/ml-zoomcamp/lib/python3.9/site-packages (from markdown>=2.6.8->tensorboard<2.12,>=2.11->tensorflow<3,>=2.7.0->tensorflow-serving-api==2.7.0) (4.11.3)\n",
      "Requirement already satisfied: certifi>=2017.4.17 in /home/lucapug/miniconda3/envs/ml-zoomcamp/lib/python3.9/site-packages (from requests<3,>=2.21.0->tensorboard<2.12,>=2.11->tensorflow<3,>=2.7.0->tensorflow-serving-api==2.7.0) (2022.9.24)\n",
      "Requirement already satisfied: urllib3<1.27,>=1.21.1 in /home/lucapug/miniconda3/envs/ml-zoomcamp/lib/python3.9/site-packages (from requests<3,>=2.21.0->tensorboard<2.12,>=2.11->tensorflow<3,>=2.7.0->tensorflow-serving-api==2.7.0) (1.26.12)\n",
      "Requirement already satisfied: charset-normalizer<3,>=2 in /home/lucapug/miniconda3/envs/ml-zoomcamp/lib/python3.9/site-packages (from requests<3,>=2.21.0->tensorboard<2.12,>=2.11->tensorflow<3,>=2.7.0->tensorflow-serving-api==2.7.0) (2.0.4)\n",
      "Requirement already satisfied: idna<4,>=2.5 in /home/lucapug/miniconda3/envs/ml-zoomcamp/lib/python3.9/site-packages (from requests<3,>=2.21.0->tensorboard<2.12,>=2.11->tensorflow<3,>=2.7.0->tensorflow-serving-api==2.7.0) (3.4)\n",
      "Requirement already satisfied: MarkupSafe>=2.1.1 in /home/lucapug/miniconda3/envs/ml-zoomcamp/lib/python3.9/site-packages (from werkzeug>=1.0.1->tensorboard<2.12,>=2.11->tensorflow<3,>=2.7.0->tensorflow-serving-api==2.7.0) (2.1.1)\n"
     ]
    },
    {
     "name": "stdout",
     "output_type": "stream",
     "text": [
      "Requirement already satisfied: zipp>=0.5 in /home/lucapug/miniconda3/envs/ml-zoomcamp/lib/python3.9/site-packages (from importlib-metadata>=4.4->markdown>=2.6.8->tensorboard<2.12,>=2.11->tensorflow<3,>=2.7.0->tensorflow-serving-api==2.7.0) (3.8.0)\n",
      "Requirement already satisfied: pyasn1<0.5.0,>=0.4.6 in /home/lucapug/miniconda3/envs/ml-zoomcamp/lib/python3.9/site-packages (from pyasn1-modules>=0.2.1->google-auth<3,>=1.6.3->tensorboard<2.12,>=2.11->tensorflow<3,>=2.7.0->tensorflow-serving-api==2.7.0) (0.4.8)\n",
      "Requirement already satisfied: oauthlib>=3.0.0 in /home/lucapug/miniconda3/envs/ml-zoomcamp/lib/python3.9/site-packages (from requests-oauthlib>=0.7.0->google-auth-oauthlib<0.5,>=0.4.1->tensorboard<2.12,>=2.11->tensorflow<3,>=2.7.0->tensorflow-serving-api==2.7.0) (3.2.2)\n",
      "Installing collected packages: grpcio, tensorflow-serving-api\n",
      "  Attempting uninstall: grpcio\n",
      "    Found existing installation: grpcio 1.50.0\n",
      "    Uninstalling grpcio-1.50.0:\n",
      "      Successfully uninstalled grpcio-1.50.0\n",
      "Successfully installed grpcio-1.42.0 tensorflow-serving-api-2.7.0\n"
     ]
    }
   ],
   "source": [
    "!pip install grpcio==1.42.0 tensorflow-serving-api==2.7.0"
   ]
  },
  {
   "cell_type": "code",
   "execution_count": 3,
   "id": "d242a793",
   "metadata": {},
   "outputs": [
    {
     "name": "stdout",
     "output_type": "stream",
     "text": [
      "/bin/bash: /home/lucapug/miniconda3/envs/ml-zoomcamp/lib/libtinfo.so.6: no version information available (required by /bin/bash)\n",
      "Requirement already satisfied: keras-image-helper in /home/lucapug/miniconda3/envs/ml-zoomcamp/lib/python3.9/site-packages (0.0.1)\n",
      "Requirement already satisfied: numpy in /home/lucapug/miniconda3/envs/ml-zoomcamp/lib/python3.9/site-packages (from keras-image-helper) (1.23.1)\n",
      "Requirement already satisfied: pillow in /home/lucapug/miniconda3/envs/ml-zoomcamp/lib/python3.9/site-packages (from keras-image-helper) (9.2.0)\n"
     ]
    }
   ],
   "source": [
    "!pip install keras-image-helper"
   ]
  },
  {
   "cell_type": "code",
   "execution_count": 4,
   "id": "af5d5d38",
   "metadata": {},
   "outputs": [
    {
     "name": "stderr",
     "output_type": "stream",
     "text": [
      "2022-11-29 16:09:19.469433: I tensorflow/core/platform/cpu_feature_guard.cc:193] This TensorFlow binary is optimized with oneAPI Deep Neural Network Library (oneDNN) to use the following CPU instructions in performance-critical operations:  AVX2 AVX512F AVX512_VNNI FMA\n",
      "To enable them in other operations, rebuild TensorFlow with the appropriate compiler flags.\n",
      "2022-11-29 16:09:20.056506: I tensorflow/core/util/port.cc:104] oneDNN custom operations are on. You may see slightly different numerical results due to floating-point round-off errors from different computation orders. To turn them off, set the environment variable `TF_ENABLE_ONEDNN_OPTS=0`.\n",
      "2022-11-29 16:09:21.117449: W tensorflow/compiler/xla/stream_executor/platform/default/dso_loader.cc:64] Could not load dynamic library 'libnvinfer.so.7'; dlerror: libnvinfer.so.7: cannot open shared object file: No such file or directory; LD_LIBRARY_PATH: :/home/lucapug/miniconda3/envs/ml-zoomcamp/lib/\n",
      "2022-11-29 16:09:21.117661: W tensorflow/compiler/xla/stream_executor/platform/default/dso_loader.cc:64] Could not load dynamic library 'libnvinfer_plugin.so.7'; dlerror: libnvinfer_plugin.so.7: cannot open shared object file: No such file or directory; LD_LIBRARY_PATH: :/home/lucapug/miniconda3/envs/ml-zoomcamp/lib/\n",
      "2022-11-29 16:09:21.117670: W tensorflow/compiler/tf2tensorrt/utils/py_utils.cc:38] TF-TRT Warning: Cannot dlopen some TensorRT libraries. If you would like to use Nvidia GPU with TensorRT, please make sure the missing libraries mentioned above are installed properly.\n"
     ]
    }
   ],
   "source": [
    "import grpc\n",
    "import tensorflow as tf\n",
    "from tensorflow_serving.apis import predict_pb2\n",
    "from tensorflow_serving.apis import prediction_service_pb2_grpc"
   ]
  },
  {
   "cell_type": "code",
   "execution_count": 13,
   "id": "a8af89fe",
   "metadata": {},
   "outputs": [],
   "source": [
    "host = 'localhost:8500'\n",
    "channel = grpc.insecure_channel(host)\n",
    "stub = prediction_service_pb2_grpc.PredictionServiceStub(channel)"
   ]
  },
  {
   "cell_type": "code",
   "execution_count": 14,
   "id": "6e5a32a6",
   "metadata": {},
   "outputs": [
    {
     "data": {
      "text/plain": [
       "<tensorflow_serving.apis.prediction_service_pb2_grpc.PredictionServiceStub at 0x7fba7229b370>"
      ]
     },
     "execution_count": 14,
     "metadata": {},
     "output_type": "execute_result"
    }
   ],
   "source": [
    "stub"
   ]
  },
  {
   "cell_type": "code",
   "execution_count": 15,
   "id": "c5822f68",
   "metadata": {},
   "outputs": [],
   "source": [
    "from keras_image_helper import create_preprocessor\n",
    "\n",
    "preprocessor = create_preprocessor('xception', target_size=(299, 299))\n",
    "\n",
    "url = 'http://bit.ly/mlbookcamp-pants'\n",
    "X = preprocessor.from_url(url)"
   ]
  },
  {
   "cell_type": "code",
   "execution_count": 16,
   "id": "31f9b5f5",
   "metadata": {},
   "outputs": [],
   "source": [
    "#converting X format from np_array to protobuf\n",
    "def np_to_protobuf(data):\n",
    "    return tf.make_tensor_proto(data, shape=data.shape)\n",
    "\n",
    "pb_request = predict_pb2.PredictRequest()\n",
    "pb_request.model_spec.name = 'clothing-model'             #is the environmental variable defined in docker run\n",
    "pb_request.model_spec.signature_name = 'serving_default'  #taken from model-description.txt\n",
    "pb_request.inputs['input_8'].CopyFrom(np_to_protobuf(X))  #taken from model-description.txt"
   ]
  },
  {
   "cell_type": "code",
   "execution_count": 18,
   "id": "f0803aa8",
   "metadata": {},
   "outputs": [
    {
     "data": {
      "text/plain": [
       "outputs {\n",
       "  key: \"dense_7\"\n",
       "  value {\n",
       "    dtype: DT_FLOAT\n",
       "    tensor_shape {\n",
       "      dim {\n",
       "        size: 1\n",
       "      }\n",
       "      dim {\n",
       "        size: 10\n",
       "      }\n",
       "    }\n",
       "    float_val: -1.8682893514633179\n",
       "    float_val: -4.761244773864746\n",
       "    float_val: -2.3169822692871094\n",
       "    float_val: -1.0625706911087036\n",
       "    float_val: 9.88715934753418\n",
       "    float_val: -2.8124325275421143\n",
       "    float_val: -3.6662826538085938\n",
       "    float_val: 3.2003581523895264\n",
       "    float_val: -2.6023366451263428\n",
       "    float_val: -4.835046291351318\n",
       "  }\n",
       "}\n",
       "model_spec {\n",
       "  name: \"clothing-model\"\n",
       "  version {\n",
       "    value: 1\n",
       "  }\n",
       "  signature_name: \"serving_default\"\n",
       "}"
      ]
     },
     "execution_count": 18,
     "metadata": {},
     "output_type": "execute_result"
    }
   ],
   "source": [
    "pb_response = stub.Predict(pb_request, timeout=40.0)\n",
    "\n",
    "pb_response"
   ]
  },
  {
   "cell_type": "code",
   "execution_count": 21,
   "id": "aeaa492c",
   "metadata": {},
   "outputs": [],
   "source": [
    "preds = pb_response.outputs['dense_7'].float_val"
   ]
  },
  {
   "cell_type": "code",
   "execution_count": 22,
   "id": "d2945df5",
   "metadata": {},
   "outputs": [
    {
     "data": {
      "text/plain": [
       "{'dress': -1.8682893514633179,\n",
       " 'hat': -4.761244773864746,\n",
       " 'longsleeve': -2.3169822692871094,\n",
       " 'outwear': -1.0625706911087036,\n",
       " 'pants': 9.88715934753418,\n",
       " 'shirt': -2.8124325275421143,\n",
       " 'shoes': -3.6662826538085938,\n",
       " 'shorts': 3.2003581523895264,\n",
       " 'skirt': -2.6023366451263428,\n",
       " 't-shirt': -4.835046291351318}"
      ]
     },
     "execution_count": 22,
     "metadata": {},
     "output_type": "execute_result"
    }
   ],
   "source": [
    "classes = [\n",
    "    'dress',\n",
    "    'hat',\n",
    "    'longsleeve',\n",
    "    'outwear',\n",
    "    'pants',\n",
    "    'shirt',\n",
    "    'shoes',\n",
    "    'shorts',\n",
    "    'skirt',\n",
    "    't-shirt'\n",
    "]\n",
    "\n",
    "dict(zip(classes, preds))"
   ]
  },
  {
   "cell_type": "code",
   "execution_count": null,
   "id": "e9ab78f3",
   "metadata": {},
   "outputs": [],
   "source": []
  }
 ],
 "metadata": {
  "kernelspec": {
   "display_name": "Python 3 (ipykernel)",
   "language": "python",
   "name": "python3"
  },
  "language_info": {
   "codemirror_mode": {
    "name": "ipython",
    "version": 3
   },
   "file_extension": ".py",
   "mimetype": "text/x-python",
   "name": "python",
   "nbconvert_exporter": "python",
   "pygments_lexer": "ipython3",
   "version": "3.9.13"
  }
 },
 "nbformat": 4,
 "nbformat_minor": 5
}
